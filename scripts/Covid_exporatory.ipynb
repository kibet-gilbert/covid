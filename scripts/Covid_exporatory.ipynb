{
 "cells": [
  {
   "cell_type": "code",
   "execution_count": 2,
   "id": "seeing-curve",
   "metadata": {},
   "outputs": [],
   "source": [
    "import mitosheet as mt\n",
    "import pandas as pd"
   ]
  },
  {
   "cell_type": "code",
   "execution_count": 3,
   "id": "latin-closing",
   "metadata": {},
   "outputs": [
    {
     "data": {
      "application/vnd.jupyter.widget-view+json": {
       "model_id": "812935a59b3040f4b49bc688eda69347",
       "version_major": 2,
       "version_minor": 0
      },
      "text/plain": [
       "MitoWidget(analysis_name='UUID-2099ca5b-d63d-4c02-810d-75a3036bbc65', code_json='{\"imports\": \"from mitosheet i…"
      ]
     },
     "metadata": {},
     "output_type": "display_data"
    }
   ],
   "source": [
    "df_sampls = pd.read_csv('/home/kibet/bioinformatics/github/covid/data/covid_11-02-2021/COVID_Sequenced_Samples_Feb2021.tsv', delimiter = \"\\t\")\n",
    "mt.sheet(df_sampls)"
   ]
  },
  {
   "cell_type": "code",
   "execution_count": 2,
   "id": "incoming-basic",
   "metadata": {},
   "outputs": [
    {
     "name": "stderr",
     "output_type": "stream",
     "text": [
      "PandasGUI INFO — pandasgui.datasets — Saved https://raw.githubusercontent.com/adamerose/datasets/master/pokemon.csv to /home/kibet/.local/share/pandasgui/dataset_files\n",
      "PandasGUI INFO — pandasgui.datasets — Saved https://raw.githubusercontent.com/adamerose/datasets/master/car_crashes.csv to /home/kibet/.local/share/pandasgui/dataset_files\n",
      "PandasGUI INFO — pandasgui.datasets — Saved https://raw.githubusercontent.com/adamerose/datasets/master/iris.csv to /home/kibet/.local/share/pandasgui/dataset_files\n",
      "PandasGUI INFO — pandasgui.datasets — Saved https://raw.githubusercontent.com/adamerose/datasets/master/mpg.csv to /home/kibet/.local/share/pandasgui/dataset_files\n",
      "PandasGUI INFO — pandasgui.datasets — Saved https://raw.githubusercontent.com/adamerose/datasets/master/penguins.csv to /home/kibet/.local/share/pandasgui/dataset_files\n",
      "PandasGUI INFO — pandasgui.datasets — Saved https://raw.githubusercontent.com/adamerose/datasets/master/tips.csv to /home/kibet/.local/share/pandasgui/dataset_files\n",
      "PandasGUI INFO — pandasgui.datasets — Saved https://raw.githubusercontent.com/adamerose/datasets/master/titanic.csv to /home/kibet/.local/share/pandasgui/dataset_files\n",
      "PandasGUI INFO — pandasgui.datasets — Saved https://raw.githubusercontent.com/adamerose/datasets/master/gapminder.csv to /home/kibet/.local/share/pandasgui/dataset_files\n",
      "PandasGUI INFO — pandasgui.datasets — Saved https://raw.githubusercontent.com/adamerose/datasets/master/stockdata.csv to /home/kibet/.local/share/pandasgui/dataset_files\n",
      "PandasGUI INFO — pandasgui.datasets — Saved https://raw.githubusercontent.com/adamerose/datasets/master/trump_tweets.csv to /home/kibet/.local/share/pandasgui/dataset_files\n",
      "PandasGUI INFO — pandasgui.datasets — Saved https://raw.githubusercontent.com/adamerose/datasets/master/mi_manufacturing.csv to /home/kibet/.local/share/pandasgui/dataset_files\n",
      "PandasGUI WARNING — pandasgui.utility — In stockdata, converted columns to datetime: Date\n",
      "PandasGUI WARNING — pandasgui.utility — In trump_tweets, converted columns to datetime: date\n"
     ]
    },
    {
     "data": {
      "text/plain": [
       "<pandasgui.gui.PandasGui at 0x7f82b82f4670>"
      ]
     },
     "execution_count": 2,
     "metadata": {},
     "output_type": "execute_result"
    }
   ],
   "source": [
    "from pandasgui import show\n",
    "from pandasgui.datasets import all_datasets\n",
    "show(**all_datasets)"
   ]
  },
  {
   "cell_type": "code",
   "execution_count": null,
   "id": "palestinian-wholesale",
   "metadata": {},
   "outputs": [],
   "source": []
  }
 ],
 "metadata": {
  "kernelspec": {
   "display_name": "Python 3",
   "language": "python",
   "name": "python3"
  },
  "language_info": {
   "codemirror_mode": {
    "name": "ipython",
    "version": 3
   },
   "file_extension": ".py",
   "mimetype": "text/x-python",
   "name": "python",
   "nbconvert_exporter": "python",
   "pygments_lexer": "ipython3",
   "version": "3.8.5"
  }
 },
 "nbformat": 4,
 "nbformat_minor": 5
}
